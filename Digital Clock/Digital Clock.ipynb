{
 "cells": [
  {
   "cell_type": "code",
   "execution_count": 2,
   "id": "233a22a3",
   "metadata": {},
   "outputs": [],
   "source": [
    "from tkinter import *\n",
    "from tkinter.ttk import *\n",
    "from time import strftime\n",
    "\n",
    "top = Tk()\n",
    "top.title(\"Digital Clock\")\n",
    "def none():\n",
    "    text = strftime(' %H:%M:%S %p ')\n",
    "    lbl.config(text=text)\n",
    "    lbl.after(1000, none)\n",
    "lbl = Label(top, font=('digital-7', 50, 'bold'), background='black', foreground='red')\n",
    "lbl.pack(anchor='center')\n",
    "none()\n",
    "top.mainloop()"
   ]
  }
 ],
 "metadata": {
  "kernelspec": {
   "display_name": "Python 3 (ipykernel)",
   "language": "python",
   "name": "python3"
  },
  "language_info": {
   "codemirror_mode": {
    "name": "ipython",
    "version": 3
   },
   "file_extension": ".py",
   "mimetype": "text/x-python",
   "name": "python",
   "nbconvert_exporter": "python",
   "pygments_lexer": "ipython3",
   "version": "3.11.1"
  }
 },
 "nbformat": 4,
 "nbformat_minor": 5
}
