{
 "cells": [
  {
   "cell_type": "markdown",
   "id": "491d9a4a",
   "metadata": {},
   "source": [
    "# 1. Create Graphical User Interfaces With Python And TKinter"
   ]
  },
  {
   "cell_type": "code",
   "execution_count": 1,
   "id": "b9f939c1",
   "metadata": {},
   "outputs": [],
   "source": [
    "from tkinter import *\n",
    "\n",
    "root = Tk()\n",
    "\n",
    "#Creating a Label Widget\n",
    "myLabel = Label(root, text=\"Hello World!\")\n",
    "#Showing it onto the screen\n",
    "myLabel.pack()\n",
    "\n",
    "root.mainloop()"
   ]
  },
  {
   "cell_type": "markdown",
   "id": "adeea4ba",
   "metadata": {},
   "source": [
    "# 2. Positioning With Tkinter's Grid System "
   ]
  },
  {
   "cell_type": "code",
   "execution_count": null,
   "id": "382c8c65",
   "metadata": {},
   "outputs": [],
   "source": [
    "from tkinter import *\n",
    "\n",
    "root = Tk()\n",
    "\n",
    "#Creating a Label Widget\n",
    "myLabel1 = Label(root, text=\"Hello World!\").grid(row=0, column=0)\n",
    "myLabel2 = Label(root, text=\"My Name Is John Elder\").grid(row=1, column=5)\n",
    "#Showing it onto the screen\n",
    "myLabel.pack()\n",
    "\n",
    "root.mainloop()"
   ]
  },
  {
   "cell_type": "markdown",
   "id": "14e9a9c0",
   "metadata": {},
   "source": [
    "# 3. Creating Buttons With TKinter"
   ]
  },
  {
   "cell_type": "code",
   "execution_count": 1,
   "id": "aeaa50f2",
   "metadata": {},
   "outputs": [],
   "source": [
    "from tkinter import *\n",
    "\n",
    "root = Tk()\n",
    "\n",
    "def myClick():\n",
    "    myLabel = Label(root, text=\"Look! I clicked a Button\")\n",
    "    myLabel.pack()\n",
    "\n",
    "myButton = Button(root, text=\"Click Me!\", command=myClick, fg=\"blue\", bg=\"white\")\n",
    "myButton.pack()\n",
    "\n",
    "root.mainloop()"
   ]
  },
  {
   "cell_type": "markdown",
   "id": "8d0c9982",
   "metadata": {},
   "source": [
    "# 4. Creating Input Fields With TKinter"
   ]
  },
  {
   "cell_type": "code",
   "execution_count": 2,
   "id": "7200ad2c",
   "metadata": {},
   "outputs": [],
   "source": [
    "from tkinter import *\n",
    "\n",
    "root = Tk()\n",
    "\n",
    "e = Entry(root, width=50)\n",
    "e.pack()\n",
    "e.insert(0, \"Enter Your Name : \")\n",
    "\n",
    "def myClick():\n",
    "    hello = \"Hello \" + e.get()\n",
    "    myLabel = Label(root, text=hello)\n",
    "    myLabel.pack()\n",
    "\n",
    "myButton = Button(root, text=\"Entery Your Stock Quote\", command=myClick)\n",
    "myButton.pack()\n",
    "\n",
    "root.mainloop()"
   ]
  },
  {
   "cell_type": "markdown",
   "id": "10ab7f1b",
   "metadata": {},
   "source": [
    "# 5,6,7. Build A Simple Calculator App"
   ]
  },
  {
   "cell_type": "code",
   "execution_count": 3,
   "id": "e0745d39",
   "metadata": {},
   "outputs": [],
   "source": [
    "from tkinter import *\n",
    "\n",
    "root = Tk()\n",
    "root.title(\"Simple Calculator\")\n",
    "\n",
    "e = Entry(root, width=35, borderwidth=5)\n",
    "e.grid(row=0, column=0, columnspan=3, padx=10, pady=10)\n",
    "\n",
    "def button_click(number):\n",
    "    current = e.get()\n",
    "    e.delete(0,END)\n",
    "    e.insert(0, str(current) + str(number))\n",
    "\n",
    "def button_clear():\n",
    "    e.delete(0,END)\n",
    "\n",
    "def button_add():\n",
    "    first_number = e.get()\n",
    "    global f_num\n",
    "    global math\n",
    "    math = \"addition\"\n",
    "    f_num = int(first_number)\n",
    "    e.delete(0,END)\n",
    "\n",
    "def button_equal():\n",
    "    second_number = e.get()\n",
    "    e.delete(0,END)\n",
    "    \n",
    "    if (math == \"addition\"):\n",
    "        e.insert(0,f_num + int(second_number))\n",
    "    elif (math == \"subtraction\"):\n",
    "        e.insert(0,f_num - int(second_number))\n",
    "    elif (math == \"multiplication\"):\n",
    "        e.insert(0,f_num * int(second_number))\n",
    "    elif (math == \"division\"):\n",
    "        e.insert(0,f_num / int(second_number))\n",
    "def button_subtract():\n",
    "    first_number = e.get()\n",
    "    global f_num\n",
    "    global math\n",
    "    math = \"subtraction\"\n",
    "    f_num = int(first_number)\n",
    "    e.delete(0,END)\n",
    "\n",
    "def button_multiply():\n",
    "    first_number = e.get()\n",
    "    global f_num\n",
    "    global math\n",
    "    math = \"multiplication\"\n",
    "    f_num = int(first_number)\n",
    "    e.delete(0,END)\n",
    "\n",
    "def button_divide():\n",
    "    first_number = e.get()\n",
    "    global f_num\n",
    "    global math\n",
    "    math = \"division\"\n",
    "    f_num = int(first_number)\n",
    "    e.delete(0,END)\n",
    "\n",
    "#Define Buttons\n",
    "button_1 = Button(root, text=\"1\", padx=40, pady=20, command=lambda: button_click(1))\n",
    "button_2 = Button(root, text=\"2\", padx=40, pady=20, command=lambda: button_click(2))\n",
    "button_3 = Button(root, text=\"3\", padx=40, pady=20, command=lambda: button_click(3))\n",
    "button_4 = Button(root, text=\"4\", padx=40, pady=20, command=lambda: button_click(4))\n",
    "button_5 = Button(root, text=\"5\", padx=40, pady=20, command=lambda: button_click(5))\n",
    "button_6 = Button(root, text=\"6\", padx=40, pady=20, command=lambda: button_click(6))\n",
    "button_7 = Button(root, text=\"7\", padx=40, pady=20, command=lambda: button_click(7))\n",
    "button_8 = Button(root, text=\"8\", padx=40, pady=20, command=lambda: button_click(8))\n",
    "button_9 = Button(root, text=\"9\", padx=40, pady=20, command=lambda: button_click(9))\n",
    "button_0 = Button(root, text=\"0\", padx=40, pady=20, command=lambda: button_click(0))\n",
    "button_add = Button(root, text=\"+\", padx=39, pady=20, command=button_add)\n",
    "button_equal = Button(root, text=\"=\", padx=88, pady=20, command=button_equal)\n",
    "button_clear = Button(root, text=\"Clear\", padx=79, pady=20, command=button_clear)\n",
    "\n",
    "button_subtract = Button(root, text=\"-\", padx=41, pady=20, command=button_subtract)\n",
    "button_multiply = Button(root, text=\"*\", padx=40, pady=20, command=button_multiply)\n",
    "button_divide = Button(root, text=\"/\", padx=41, pady=20, command=button_divide)\n",
    "#Put the buttons on the screen\n",
    "button_1.grid(row=3, column=0)\n",
    "button_2.grid(row=3, column=1)\n",
    "button_3.grid(row=3, column=2)\n",
    "\n",
    "button_4.grid(row=2, column=0)\n",
    "button_5.grid(row=2, column=1)\n",
    "button_6.grid(row=2, column=2)\n",
    "\n",
    "button_7.grid(row=1, column=0)\n",
    "button_8.grid(row=1, column=1)\n",
    "button_9.grid(row=1, column=2)\n",
    "\n",
    "button_0.grid(row=4, column=0)\n",
    "button_clear.grid(row=4, column=1, columnspan=2)\n",
    "button_add.grid(row=5, column=0)\n",
    "button_equal.grid(row=5, column=1, columnspan=2)\n",
    "\n",
    "button_subtract.grid(row=6, column=0)\n",
    "button_multiply.grid(row=6, column=1)\n",
    "button_divide.grid(row=6, column=2)\n",
    "\n",
    "root.mainloop()"
   ]
  },
  {
   "cell_type": "markdown",
   "id": "418af2bf",
   "metadata": {},
   "source": [
    "# 8. Using Icons, Images, and Exit Buttons"
   ]
  },
  {
   "cell_type": "code",
   "execution_count": 6,
   "id": "1d31cee1",
   "metadata": {},
   "outputs": [],
   "source": [
    "from tkinter import *\n",
    "from PIL import ImageTk, Image\n",
    "\n",
    "root = Tk()\n",
    "root.title('Learn To Code at Codemy.com')\n",
    "root.iconbitmap('icon.ico')\n",
    "\n",
    "my_img = ImageTk.PhotoImage(Image.open(\"image1.jpg\"))\n",
    "my_label = Label(image=my_img)\n",
    "my_label.pack()\n",
    "\n",
    "button_quit = Button(root, text=\"Exit Program\", command=root.destroy)\n",
    "button_quit.pack()\n",
    "\n",
    "root.mainloop()"
   ]
  },
  {
   "cell_type": "markdown",
   "id": "365352ee",
   "metadata": {},
   "source": [
    "# 9. Build an Image Viewer App"
   ]
  },
  {
   "cell_type": "code",
   "execution_count": null,
   "id": "0212bf1b",
   "metadata": {},
   "outputs": [],
   "source": [
    "from tkinter import *\n",
    "from PIL import ImageTk, Image\n",
    "\n",
    "root = Tk()\n",
    "root.title('Codemy.com Image Viewer')\n",
    "root.iconbitmap('icon.ico')\n",
    "\n",
    "my_img1 = ImageTk.PhotoImage(Image.open(\"image1.jpg\"))\n",
    "my_img2 = ImageTk.PhotoImage(Image.open(\"image2.jpg\"))\n",
    "my_img3 = ImageTk.PhotoImage(Image.open(\"image3.jpg\"))\n",
    "my_img4 = ImageTk.PhotoImage(Image.open(\"image4.jpg\"))\n",
    "my_img5 = ImageTk.PhotoImage(Image.open(\"image5.jpg\"))\n",
    "\n",
    "image_list = [my_img1, my_img2, my_img3, my_img4, my_img5]\n",
    "\n",
    "my_label = Label(image=my_img1)\n",
    "my_label.grid(row=0, column=0, columnspan=3)\n",
    "\n",
    "def forward(image_number):\n",
    "    global my_label\n",
    "    global button_forward\n",
    "    global button_back\n",
    "    \n",
    "    my_label.grid_forget()\n",
    "    my_label = Label(image=image_list[image_number-1])\n",
    "    button_forward = Button(root, text=\">>\", command=lambda: forward(image_number+1))\n",
    "    button_back = Button(root, text=\"<<\", command=lambda: back(image_number-1))\n",
    "    \n",
    "    \n",
    "    my_label.grid(row=0, column=0, columnspan=3)\n",
    "    button_back.grid(row=1, column=0)\n",
    "    button_forward.grid(row=1, column=2)\n",
    "def back():\n",
    "    global my_label\n",
    "    global button_forward\n",
    "    global button_back\n",
    "\n",
    "\n",
    "button_back = Button(root, text=\"<<\", command=back)\n",
    "button_exit = Button(root, text=\"Exit Program\", command=root.destroy)\n",
    "button_forward = Button(root, text=\">>\", command=lambda: forward(2))\n",
    "\n",
    "button_back.grid(row=1, column=0)\n",
    "button_exit.grid(row=1, column=1)\n",
    "button_forward.grid(row=1, column=2)\n",
    "\n",
    "root.mainloop()"
   ]
  },
  {
   "cell_type": "code",
   "execution_count": null,
   "id": "4b310e1c",
   "metadata": {},
   "outputs": [],
   "source": []
  },
  {
   "cell_type": "code",
   "execution_count": null,
   "id": "f8e020cf",
   "metadata": {},
   "outputs": [],
   "source": []
  },
  {
   "cell_type": "code",
   "execution_count": null,
   "id": "4b6a93ec",
   "metadata": {},
   "outputs": [],
   "source": []
  },
  {
   "cell_type": "code",
   "execution_count": null,
   "id": "fb6192b5",
   "metadata": {},
   "outputs": [],
   "source": []
  },
  {
   "cell_type": "code",
   "execution_count": null,
   "id": "5bba5704",
   "metadata": {},
   "outputs": [],
   "source": []
  },
  {
   "cell_type": "code",
   "execution_count": null,
   "id": "4baefd27",
   "metadata": {},
   "outputs": [],
   "source": []
  },
  {
   "cell_type": "code",
   "execution_count": null,
   "id": "365791cd",
   "metadata": {},
   "outputs": [],
   "source": []
  },
  {
   "cell_type": "code",
   "execution_count": null,
   "id": "a00af3ca",
   "metadata": {},
   "outputs": [],
   "source": []
  },
  {
   "cell_type": "code",
   "execution_count": null,
   "id": "91c917ed",
   "metadata": {},
   "outputs": [],
   "source": []
  },
  {
   "cell_type": "code",
   "execution_count": null,
   "id": "c9c1b05c",
   "metadata": {},
   "outputs": [],
   "source": []
  },
  {
   "cell_type": "code",
   "execution_count": null,
   "id": "78520113",
   "metadata": {},
   "outputs": [],
   "source": []
  },
  {
   "cell_type": "code",
   "execution_count": null,
   "id": "56d0b583",
   "metadata": {},
   "outputs": [],
   "source": []
  },
  {
   "cell_type": "code",
   "execution_count": null,
   "id": "43e42802",
   "metadata": {},
   "outputs": [],
   "source": []
  },
  {
   "cell_type": "code",
   "execution_count": null,
   "id": "d29bf21c",
   "metadata": {},
   "outputs": [],
   "source": []
  },
  {
   "cell_type": "code",
   "execution_count": null,
   "id": "020be5f3",
   "metadata": {},
   "outputs": [],
   "source": []
  },
  {
   "cell_type": "code",
   "execution_count": null,
   "id": "d6035fa1",
   "metadata": {},
   "outputs": [],
   "source": []
  },
  {
   "cell_type": "code",
   "execution_count": null,
   "id": "7ef73f53",
   "metadata": {},
   "outputs": [],
   "source": []
  },
  {
   "cell_type": "code",
   "execution_count": null,
   "id": "9cea1911",
   "metadata": {},
   "outputs": [],
   "source": []
  },
  {
   "cell_type": "code",
   "execution_count": null,
   "id": "1c0efc0d",
   "metadata": {},
   "outputs": [],
   "source": []
  },
  {
   "cell_type": "code",
   "execution_count": null,
   "id": "c8bdf9b5",
   "metadata": {},
   "outputs": [],
   "source": []
  },
  {
   "cell_type": "code",
   "execution_count": null,
   "id": "ef48a97f",
   "metadata": {},
   "outputs": [],
   "source": []
  },
  {
   "cell_type": "code",
   "execution_count": null,
   "id": "a357d4a0",
   "metadata": {},
   "outputs": [],
   "source": []
  },
  {
   "cell_type": "code",
   "execution_count": null,
   "id": "235e1393",
   "metadata": {},
   "outputs": [],
   "source": []
  },
  {
   "cell_type": "code",
   "execution_count": null,
   "id": "aa65ab58",
   "metadata": {},
   "outputs": [],
   "source": []
  },
  {
   "cell_type": "code",
   "execution_count": null,
   "id": "158cf685",
   "metadata": {},
   "outputs": [],
   "source": []
  },
  {
   "cell_type": "code",
   "execution_count": null,
   "id": "1e0696eb",
   "metadata": {},
   "outputs": [],
   "source": []
  },
  {
   "cell_type": "code",
   "execution_count": null,
   "id": "3236729a",
   "metadata": {},
   "outputs": [],
   "source": []
  },
  {
   "cell_type": "code",
   "execution_count": null,
   "id": "f5b7c1ac",
   "metadata": {},
   "outputs": [],
   "source": []
  },
  {
   "cell_type": "code",
   "execution_count": null,
   "id": "f4a106af",
   "metadata": {},
   "outputs": [],
   "source": []
  }
 ],
 "metadata": {
  "kernelspec": {
   "display_name": "Python 3 (ipykernel)",
   "language": "python",
   "name": "python3"
  },
  "language_info": {
   "codemirror_mode": {
    "name": "ipython",
    "version": 3
   },
   "file_extension": ".py",
   "mimetype": "text/x-python",
   "name": "python",
   "nbconvert_exporter": "python",
   "pygments_lexer": "ipython3",
   "version": "3.11.1"
  }
 },
 "nbformat": 4,
 "nbformat_minor": 5
}
