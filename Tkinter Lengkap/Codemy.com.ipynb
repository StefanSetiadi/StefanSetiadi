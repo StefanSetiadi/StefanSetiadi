{
 "cells": [
  {
   "cell_type": "markdown",
   "id": "4aeba218",
   "metadata": {},
   "source": [
    "# 1. Create Graphical User Interfaces"
   ]
  },
  {
   "cell_type": "code",
   "execution_count": 1,
   "id": "fc86c1c6",
   "metadata": {},
   "outputs": [],
   "source": [
    "from tkinter import *\n",
    "\n",
    "root = Tk()\n",
    "\n",
    "# Creating a Label Widget\n",
    "myLabel = Label(root, text=\"Hello World!\")\n",
    "# Showing it onto the screen\n",
    "myLabel.pack()\n",
    "\n",
    "root.mainloop()"
   ]
  },
  {
   "cell_type": "markdown",
   "id": "271112a7",
   "metadata": {},
   "source": [
    "# 2. Positioning With Tkinter's Grid System"
   ]
  },
  {
   "cell_type": "code",
   "execution_count": 4,
   "id": "70021f72",
   "metadata": {},
   "outputs": [],
   "source": [
    "from tkinter import *\n",
    "\n",
    "root = Tk()\n",
    "\n",
    "# Creating a Label Widget\n",
    "myLabel1 = Label(root, text=\"Hello World!\")\n",
    "myLabel2 = Label(root, text=\"My Name Is John Elder!\").grid(row=1, column=1)\n",
    "\n",
    "# Showing it onto the screen\n",
    "myLabel1.grid(row=0, column=0)\n",
    "\n",
    "root.mainloop()"
   ]
  },
  {
   "cell_type": "markdown",
   "id": "6f123ffc",
   "metadata": {},
   "source": [
    "# 3. Creating Buttons "
   ]
  },
  {
   "cell_type": "code",
   "execution_count": 8,
   "id": "50aa2e27",
   "metadata": {},
   "outputs": [],
   "source": [
    "from tkinter import *\n",
    "\n",
    "root = Tk()\n",
    "\n",
    "def myClick():\n",
    "    myLabel = Label(root, text=\"Look! I clicked a Button!!\")\n",
    "    myLabel.pack()\n",
    "\n",
    "myButton = Button(root, text=\"Click Me!\", command=myClick, fg=\"blue\", bg=\"white\", padx=50, pady=50)\n",
    "myButton.pack()\n",
    "\n",
    "root.mainloop()"
   ]
  },
  {
   "cell_type": "markdown",
   "id": "a562e201",
   "metadata": {},
   "source": [
    "# 4. Creating Input Fields"
   ]
  },
  {
   "cell_type": "code",
   "execution_count": 10,
   "id": "6a15dd87",
   "metadata": {},
   "outputs": [],
   "source": [
    "from tkinter import *\n",
    "\n",
    "root = Tk()\n",
    "\n",
    "e = Entry(root, width=50)\n",
    "e.pack()\n",
    "e.insert(0, \"Enter Your Name : \")\n",
    "\n",
    "def myClick():\n",
    "    \n",
    "    hello = \"Hello \" + e.get()\n",
    "    myLabel = Label(root, text=hello)\n",
    "    myLabel.pack()\n",
    "\n",
    "myButton = Button(root, text=\"Enter Your Stock Quote\", command=myClick, fg=\"blue\", bg=\"white\", padx=50, pady=50)\n",
    "myButton.pack()\n",
    "\n",
    "root.mainloop()"
   ]
  },
  {
   "cell_type": "markdown",
   "id": "34ea09a9",
   "metadata": {},
   "source": [
    "# 5,6,7. Build A Simple Calculator App"
   ]
  },
  {
   "cell_type": "code",
   "execution_count": 11,
   "id": "8b88d98e",
   "metadata": {},
   "outputs": [],
   "source": [
    "from tkinter import *\n",
    "\n",
    "root = Tk()\n",
    "root.title(\"Simple Calculator\")\n",
    "\n",
    "e = Entry(root, width=35, borderwidth=5)\n",
    "e.grid(row=0, column=0, columnspan=3, padx=10, pady=10)\n",
    "\n",
    "def button_click(number):\n",
    "    current = e.get()\n",
    "    e.delete(0,END)\n",
    "    e.insert(0, str(current) + str(number))\n",
    "\n",
    "def button_clear():\n",
    "    e.delete(0,END)\n",
    "\n",
    "def button_add():\n",
    "    first_number = e.get()\n",
    "    global f_num\n",
    "    global math\n",
    "    math = \"addition\"\n",
    "    f_num = int(first_number)\n",
    "    e.delete(0,END)\n",
    "\n",
    "def button_equal():\n",
    "    second_number = e.get()\n",
    "    e.delete(0,END)\n",
    "    \n",
    "    if (math == \"addition\"):\n",
    "        e.insert(0,f_num + int(second_number))\n",
    "    elif (math == \"subtraction\"):\n",
    "        e.insert(0,f_num - int(second_number))\n",
    "    elif (math == \"multiplication\"):\n",
    "        e.insert(0,f_num * int(second_number))\n",
    "    elif (math == \"division\"):\n",
    "        e.insert(0,f_num / int(second_number))\n",
    "def button_subtract():\n",
    "    first_number = e.get()\n",
    "    global f_num\n",
    "    global math\n",
    "    math = \"subtraction\"\n",
    "    f_num = int(first_number)\n",
    "    e.delete(0,END)\n",
    "\n",
    "def button_multiply():\n",
    "    first_number = e.get()\n",
    "    global f_num\n",
    "    global math\n",
    "    math = \"multiplication\"\n",
    "    f_num = int(first_number)\n",
    "    e.delete(0,END)\n",
    "\n",
    "def button_divide():\n",
    "    first_number = e.get()\n",
    "    global f_num\n",
    "    global math\n",
    "    math = \"division\"\n",
    "    f_num = int(first_number)\n",
    "    e.delete(0,END)\n",
    "\n",
    "#Define Buttons\n",
    "button_1 = Button(root, text=\"1\", padx=40, pady=20, command=lambda: button_click(1))\n",
    "button_2 = Button(root, text=\"2\", padx=40, pady=20, command=lambda: button_click(2))\n",
    "button_3 = Button(root, text=\"3\", padx=40, pady=20, command=lambda: button_click(3))\n",
    "button_4 = Button(root, text=\"4\", padx=40, pady=20, command=lambda: button_click(4))\n",
    "button_5 = Button(root, text=\"5\", padx=40, pady=20, command=lambda: button_click(5))\n",
    "button_6 = Button(root, text=\"6\", padx=40, pady=20, command=lambda: button_click(6))\n",
    "button_7 = Button(root, text=\"7\", padx=40, pady=20, command=lambda: button_click(7))\n",
    "button_8 = Button(root, text=\"8\", padx=40, pady=20, command=lambda: button_click(8))\n",
    "button_9 = Button(root, text=\"9\", padx=40, pady=20, command=lambda: button_click(9))\n",
    "button_0 = Button(root, text=\"0\", padx=40, pady=20, command=lambda: button_click(0))\n",
    "button_add = Button(root, text=\"+\", padx=39, pady=20, command=button_add)\n",
    "button_equal = Button(root, text=\"=\", padx=88, pady=20, command=button_equal)\n",
    "button_clear = Button(root, text=\"Clear\", padx=79, pady=20, command=button_clear)\n",
    "\n",
    "button_subtract = Button(root, text=\"-\", padx=41, pady=20, command=button_subtract)\n",
    "button_multiply = Button(root, text=\"*\", padx=40, pady=20, command=button_multiply)\n",
    "button_divide = Button(root, text=\"/\", padx=41, pady=20, command=button_divide)\n",
    "#Put the buttons on the screen\n",
    "button_1.grid(row=3, column=0)\n",
    "button_2.grid(row=3, column=1)\n",
    "button_3.grid(row=3, column=2)\n",
    "\n",
    "button_4.grid(row=2, column=0)\n",
    "button_5.grid(row=2, column=1)\n",
    "button_6.grid(row=2, column=2)\n",
    "\n",
    "button_7.grid(row=1, column=0)\n",
    "button_8.grid(row=1, column=1)\n",
    "button_9.grid(row=1, column=2)\n",
    "\n",
    "button_0.grid(row=4, column=0)\n",
    "button_clear.grid(row=4, column=1, columnspan=2)\n",
    "button_add.grid(row=5, column=0)\n",
    "button_equal.grid(row=5, column=1, columnspan=2)\n",
    "\n",
    "button_subtract.grid(row=6, column=0)\n",
    "button_multiply.grid(row=6, column=1)\n",
    "button_divide.grid(row=6, column=2)\n",
    "\n",
    "root.mainloop()"
   ]
  },
  {
   "cell_type": "markdown",
   "id": "9660977f",
   "metadata": {},
   "source": [
    "# 8. Using Icons, Images, and Exit Buttons"
   ]
  },
  {
   "cell_type": "code",
   "execution_count": null,
   "id": "7b5eddc3",
   "metadata": {},
   "outputs": [],
   "source": []
  },
  {
   "cell_type": "code",
   "execution_count": null,
   "id": "12469ec5",
   "metadata": {},
   "outputs": [],
   "source": []
  }
 ],
 "metadata": {
  "kernelspec": {
   "display_name": "Python 3 (ipykernel)",
   "language": "python",
   "name": "python3"
  },
  "language_info": {
   "codemirror_mode": {
    "name": "ipython",
    "version": 3
   },
   "file_extension": ".py",
   "mimetype": "text/x-python",
   "name": "python",
   "nbconvert_exporter": "python",
   "pygments_lexer": "ipython3",
   "version": "3.11.1"
  }
 },
 "nbformat": 4,
 "nbformat_minor": 5
}
