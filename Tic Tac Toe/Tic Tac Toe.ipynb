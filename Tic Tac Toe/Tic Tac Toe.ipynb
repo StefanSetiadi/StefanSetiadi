{
 "cells": [
  {
   "cell_type": "code",
   "execution_count": 5,
   "id": "e23c4137",
   "metadata": {},
   "outputs": [],
   "source": [
    "from tkinter import *\n",
    "from tkinter import messagebox\n",
    "\n",
    "root = Tk()\n",
    "root.title(\"Tic Tac Toe\")\n",
    "\n",
    "# X starts so true\n",
    "clicked = True\n",
    "count = 0\n",
    "\n",
    "#Button clicked function\n",
    "def b_click(b):\n",
    "    pass\n",
    "\n",
    "#Build our buttons\n",
    "b1 = Button(root, text=\" \", font=(\"Helvetica, 20\"), height=3, width=6,bg=\"SystemButtonFace\", command=lambda: b_click(b1))\n",
    "b2 = Button(root, text=\" \", font=(\"Helvetica, 20\"), height=3, width=6,bg=\"SystemButtonFace\", command=lambda: b_click(b2))\n",
    "b3 = Button(root, text=\" \", font=(\"Helvetica, 20\"), height=3, width=6,bg=\"SystemButtonFace\", command=lambda: b_click(b3))\n",
    "\n",
    "b4 = Button(root, text=\" \", font=(\"Helvetica, 20\"), height=3, width=6,bg=\"SystemButtonFace\", command=lambda: b_click(b4))\n",
    "b5 = Button(root, text=\" \", font=(\"Helvetica, 20\"), height=3, width=6,bg=\"SystemButtonFace\", command=lambda: b_click(b5))\n",
    "b6 = Button(root, text=\" \", font=(\"Helvetica, 20\"), height=3, width=6,bg=\"SystemButtonFace\", command=lambda: b_click(b6))\n",
    "\n",
    "b7 = Button(root, text=\" \", font=(\"Helvetica, 20\"), height=3, width=6,bg=\"SystemButtonFace\", command=lambda: b_click(b7))\n",
    "b8 = Button(root, text=\" \", font=(\"Helvetica, 20\"), height=3, width=6,bg=\"SystemButtonFace\", command=lambda: b_click(b8))\n",
    "b9 = Button(root, text=\" \", font=(\"Helvetica, 20\"), height=3, width=6,bg=\"SystemButtonFace\", command=lambda: b_click(b9))\n",
    "\n",
    "#Grid our buttons to the screen\n",
    "b1.grid(row=0, column=0)\n",
    "b2.grid(row=0, column=1)\n",
    "b3.grid(row=0, column=2)\n",
    "\n",
    "b4.grid(row=1, column=0)\n",
    "b5.grid(row=1, column=1)\n",
    "b6.grid(row=1, column=2)\n",
    "\n",
    "b7.grid(row=2, column=0)\n",
    "b8.grid(row=2, column=1)\n",
    "b9.grid(row=2, column=2)\n",
    "\n",
    "root.mainloop()"
   ]
  }
 ],
 "metadata": {
  "kernelspec": {
   "display_name": "Python 3 (ipykernel)",
   "language": "python",
   "name": "python3"
  },
  "language_info": {
   "codemirror_mode": {
    "name": "ipython",
    "version": 3
   },
   "file_extension": ".py",
   "mimetype": "text/x-python",
   "name": "python",
   "nbconvert_exporter": "python",
   "pygments_lexer": "ipython3",
   "version": "3.11.1"
  }
 },
 "nbformat": 4,
 "nbformat_minor": 5
}
