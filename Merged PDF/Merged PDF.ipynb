{
 "cells": [
  {
   "cell_type": "code",
   "execution_count": 1,
   "id": "b23896a4",
   "metadata": {},
   "outputs": [],
   "source": [
    "from PyPDF2 import PdfMerger\n",
    "\n",
    "merger = PdfMerger()\n",
    "\n",
    "merger.append(\"1. Pertemuan 1 - Pengantar Multimedia 2023.pdf\")\n",
    "merger.append(\"2. Pertemuan 2 - Pengantar Multimedia.pdf\")\n",
    "merger.append(\"3. Pertemuan 3 - Teks.pdf\")\n",
    "merger.append(\"4. Pertemuan 4 - Gambar.pdf\")\n",
    "merger.append(\"5. Pertemuan 5 - Suara.pdf\")\n",
    "merger.append(\"6. Pertemuan 6 - Video.pdf\")\n",
    "merger.append(\"7. Pertemuan 7 - Animasi.pdf\")\n",
    "\n",
    "merger.write(\"Gabungan Materi Anmul Sebelum UTS.pdf\")\n",
    "merger.close()"
   ]
  }
 ],
 "metadata": {
  "kernelspec": {
   "display_name": "Python 3 (ipykernel)",
   "language": "python",
   "name": "python3"
  },
  "language_info": {
   "codemirror_mode": {
    "name": "ipython",
    "version": 3
   },
   "file_extension": ".py",
   "mimetype": "text/x-python",
   "name": "python",
   "nbconvert_exporter": "python",
   "pygments_lexer": "ipython3",
   "version": "3.11.1"
  }
 },
 "nbformat": 4,
 "nbformat_minor": 5
}
