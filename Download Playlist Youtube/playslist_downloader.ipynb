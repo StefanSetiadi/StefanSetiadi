{
 "cells": [
  {
   "cell_type": "code",
   "execution_count": null,
   "id": "2099a655",
   "metadata": {},
   "outputs": [],
   "source": [
    "from pytube import Playlist\n",
    "\n",
    "link = input(\"Enter Youtube Playlist URL : \")\n",
    "\n",
    "yt_playlist = Playlist(link)\n",
    "\n",
    "for video in yt_playlist.videos:\n",
    "#     video.streams.get_highest_resolution().download(\"D:\\Stefan\\Projects\\Python Projects\\Download Playlist Youtube\\Hasil Download\")\n",
    "    video.streams.get_lowest_resolution().download(\"D:\\Stefan\\Projects\\Python Projects\\Download Playlist Youtube\\Hasil Download\")\n",
    "    print(\"Video Downloaded : \", video.title)\n",
    "\n",
    "print(\"\\nAll videos are downloaded.\")"
   ]
  }
 ],
 "metadata": {
  "kernelspec": {
   "display_name": "Python 3 (ipykernel)",
   "language": "python",
   "name": "python3"
  },
  "language_info": {
   "codemirror_mode": {
    "name": "ipython",
    "version": 3
   },
   "file_extension": ".py",
   "mimetype": "text/x-python",
   "name": "python",
   "nbconvert_exporter": "python",
   "pygments_lexer": "ipython3",
   "version": "3.11.1"
  }
 },
 "nbformat": 4,
 "nbformat_minor": 5
}
