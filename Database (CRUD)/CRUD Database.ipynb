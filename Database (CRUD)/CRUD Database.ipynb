{
 "cells": [
  {
   "cell_type": "markdown",
   "id": "72d38663",
   "metadata": {},
   "source": [
    "# https://www.youtube.com/watch?v=HzNOkj86D8I"
   ]
  },
  {
   "cell_type": "code",
   "execution_count": 7,
   "id": "fa81e7f2",
   "metadata": {},
   "outputs": [
    {
     "name": "stdout",
     "output_type": "stream",
     "text": [
      "(3, 'agus', 'jogja')\n",
      "(4, 'agus', 'jogja')\n"
     ]
    }
   ],
   "source": [
    "host='localhost'\n",
    "user=\"root\"\n",
    "password=\"\"\n",
    "\n",
    "import mysql.connector as mysql\n",
    "\n",
    "db = mysql.connect(\n",
    "    host=host,user=user, password=password\n",
    ")\n",
    "\n",
    "cursor = db.cursor()\n",
    "\n",
    "# #Membuat database baru\n",
    "# cursor.execute(\"CREATE DATABASE mydatabase\")\n",
    "\n",
    "# # Menghapus database\n",
    "# cursor.execute(\"DROP DATABASE mydatabase\")\n",
    "\n",
    "# #Melihat daftar database yang sudah dibuat\n",
    "# cursor.execute(\"SHOW DATABASES\")\n",
    "# data = cursor.fetchall()\n",
    "# print(data)\n",
    "\n",
    "#Menunjuk database yang akan dipakai\n",
    "db.database=\"mydatabase\"\n",
    "\n",
    "#Membuat tabel di database\n",
    "# cursor.execute('''\n",
    "#     CREATE table data_pelanggan(\n",
    "#     ID INT NOT NULL AUTO_INCREMENT,\n",
    "#     nama VARCHAR(100) NOT NULL,\n",
    "#     alamat TEXT NOT NULL,\n",
    "#     tanggal DATE,\n",
    "#     PRIMARY KEY(ID))\n",
    "# ''')\n",
    "\n",
    "#Menghapus tabel di database\n",
    "# cursor.execute(\"DROP TABLE data_pelanggan\")\n",
    "# db.commit()\n",
    "\n",
    "# Menampilkan informasi dari tabel di database\n",
    "# cursor.execute(\"Select * From INFORMATION_SCHEMA.COLUMNS Where TABLE_NAME = 'data_pelanggan'\")\n",
    "# print(cursor.fetchall())\n",
    "\n",
    "# #Menghapus column database yang tidak dipakai\n",
    "# cursor.execute(\"ALTER TABLE data_pelanggan DROP tanggal\")\n",
    "\n",
    "\n",
    "#Menambahkan data ke tabel database\n",
    "# cursor.execute(\"INSERT INTO data_pelanggan (nama, alamat) VALUES('agus', 'jogja')\")\n",
    "# db.commit()\n",
    "\n",
    "#Update data ke tabel database\n",
    "# cursor.execute(\"UPDATE data_pelanggan SET nama='burhan' WHERE id='1'\")\n",
    "# cursor.execute(\"UPDATE data_pelanggan SET alamat='solo' WHERE id='1'\")\n",
    "# db.commit()\n",
    "\n",
    "# #Delete data ke tabel database\n",
    "# cursor.execute(\"DELETE FROM data_pelanggan WHERE nama='burhan'\")\n",
    "# db.commit()\n",
    "\n",
    "\n",
    "#Menampilkan semua data di tabel database\n",
    "cursor.execute(\"SELECT * FROM data_pelanggan WHERE nama='agus'\")\n",
    "data = cursor.fetchall()\n",
    "for row in data:\n",
    "    print(row)\n",
    "\n",
    "\n",
    "# Menampilkan isi tabel database\n",
    "# cursor.execute(\"SHOW TABLES\")\n",
    "# data = cursor.fetchall()\n",
    "# print(data)\n",
    "\n"
   ]
  }
 ],
 "metadata": {
  "kernelspec": {
   "display_name": "Python 3 (ipykernel)",
   "language": "python",
   "name": "python3"
  },
  "language_info": {
   "codemirror_mode": {
    "name": "ipython",
    "version": 3
   },
   "file_extension": ".py",
   "mimetype": "text/x-python",
   "name": "python",
   "nbconvert_exporter": "python",
   "pygments_lexer": "ipython3",
   "version": "3.11.1"
  }
 },
 "nbformat": 4,
 "nbformat_minor": 5
}
