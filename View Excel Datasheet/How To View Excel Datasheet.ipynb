{
 "cells": [
  {
   "cell_type": "code",
   "execution_count": 1,
   "id": "45d60536",
   "metadata": {},
   "outputs": [],
   "source": [
    "from tkinter import *\n",
    "from tkinter import messagebox\n",
    "from tkinter import ttk, filedialog\n",
    "import numpy\n",
    "import pandas as pd\n",
    "\n",
    "root = Tk()\n",
    "root.title(\"Excel DataSheet Viewer\")\n",
    "root.geometry(\"1100x400+100+150\")\n",
    "\n",
    "def Open():\n",
    "    filename = filedialog.askopenfilename(title=\"Open a File\",\n",
    "                                          filetype=((\"xlsx files\",\".*xlsx\"),\n",
    "                                                    (\"All Files\",\"*.*\")))\n",
    "    if filename:\n",
    "        try:\n",
    "            filename = r\"{}\".format(filename)\n",
    "            df = pd.read_excel(filename)\n",
    "        except:\n",
    "            messagebox.showerror(\"Error\", \"You can't access this file!\")\n",
    "    \n",
    "    #now we have to clear previous data to enter new data\n",
    "    tree.delete()\n",
    "    \n",
    "    #datasheet heading\n",
    "    tree['column'] = list(df.columns)\n",
    "    tree['show'] = \"headings\"\n",
    "    \n",
    "    #heading title\n",
    "    for col in tree['column']:\n",
    "        tree.heading(col, text=col)\n",
    "        \n",
    "    #enter data\n",
    "    df_rows = df.to_numpy().tolist()\n",
    "    for row in df_rows:\n",
    "        tree.insert(\"\", \"end\", values=row)\n",
    "    \n",
    "#icon image\n",
    "image_icon = PhotoImage(file=\"logo.png\")\n",
    "root.iconphoto(False, image_icon)\n",
    "\n",
    "#frame\n",
    "frame = Frame(root)\n",
    "frame.pack(pady=25)\n",
    "\n",
    "#TreeView\n",
    "tree = ttk.Treeview(frame)\n",
    "tree.pack()\n",
    "\n",
    "#button\n",
    "button = Button(root, text=\"Open\", width=60, height=2, font=30, fg=\"white\", bg=\"#0078d7\", command=Open)\n",
    "button.pack(padx=10, pady=20)\n",
    "\n",
    "root.mainloop()"
   ]
  },
  {
   "cell_type": "code",
   "execution_count": null,
   "id": "845a7682",
   "metadata": {},
   "outputs": [],
   "source": []
  }
 ],
 "metadata": {
  "kernelspec": {
   "display_name": "Python 3 (ipykernel)",
   "language": "python",
   "name": "python3"
  },
  "language_info": {
   "codemirror_mode": {
    "name": "ipython",
    "version": 3
   },
   "file_extension": ".py",
   "mimetype": "text/x-python",
   "name": "python",
   "nbconvert_exporter": "python",
   "pygments_lexer": "ipython3",
   "version": "3.11.1"
  }
 },
 "nbformat": 4,
 "nbformat_minor": 5
}
